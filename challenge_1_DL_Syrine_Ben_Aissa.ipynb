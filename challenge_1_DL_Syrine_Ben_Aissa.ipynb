{
 "cells": [
  {
   "cell_type": "code",
   "execution_count": 1,
   "metadata": {},
   "outputs": [
    {
     "name": "stderr",
     "output_type": "stream",
     "text": [
      "Using TensorFlow backend.\n"
     ]
    }
   ],
   "source": [
    "import numpy as np\n",
    "import matplotlib.pyplot as plt\n",
    "import pandas as pd\n",
    "from sklearn.preprocessing import LabelEncoder, OneHotEncoder\n",
    "from sklearn.model_selection import train_test_split\n",
    "from sklearn.preprocessing import StandardScaler\n",
    "from sklearn.metrics import confusion_matrix\n",
    "# Importing the Keras libraries and packages\n",
    "import keras\n",
    "from keras.models import Sequential\n",
    "from keras.layers import Dense"
   ]
  },
  {
   "cell_type": "code",
   "execution_count": 2,
   "metadata": {},
   "outputs": [
    {
     "data": {
      "text/html": [
       "<div>\n",
       "<style scoped>\n",
       "    .dataframe tbody tr th:only-of-type {\n",
       "        vertical-align: middle;\n",
       "    }\n",
       "\n",
       "    .dataframe tbody tr th {\n",
       "        vertical-align: top;\n",
       "    }\n",
       "\n",
       "    .dataframe thead th {\n",
       "        text-align: right;\n",
       "    }\n",
       "</style>\n",
       "<table border=\"1\" class=\"dataframe\">\n",
       "  <thead>\n",
       "    <tr style=\"text-align: right;\">\n",
       "      <th></th>\n",
       "      <th>buying</th>\n",
       "      <th>maint</th>\n",
       "      <th>doors</th>\n",
       "      <th>persons</th>\n",
       "      <th>lug_boot</th>\n",
       "      <th>safety</th>\n",
       "      <th>class</th>\n",
       "    </tr>\n",
       "  </thead>\n",
       "  <tbody>\n",
       "    <tr>\n",
       "      <th>0</th>\n",
       "      <td>vhigh</td>\n",
       "      <td>vhigh</td>\n",
       "      <td>2</td>\n",
       "      <td>2</td>\n",
       "      <td>small</td>\n",
       "      <td>low</td>\n",
       "      <td>unacc</td>\n",
       "    </tr>\n",
       "    <tr>\n",
       "      <th>1</th>\n",
       "      <td>vhigh</td>\n",
       "      <td>vhigh</td>\n",
       "      <td>2</td>\n",
       "      <td>2</td>\n",
       "      <td>small</td>\n",
       "      <td>med</td>\n",
       "      <td>unacc</td>\n",
       "    </tr>\n",
       "    <tr>\n",
       "      <th>2</th>\n",
       "      <td>vhigh</td>\n",
       "      <td>vhigh</td>\n",
       "      <td>2</td>\n",
       "      <td>2</td>\n",
       "      <td>small</td>\n",
       "      <td>high</td>\n",
       "      <td>unacc</td>\n",
       "    </tr>\n",
       "    <tr>\n",
       "      <th>3</th>\n",
       "      <td>vhigh</td>\n",
       "      <td>vhigh</td>\n",
       "      <td>2</td>\n",
       "      <td>2</td>\n",
       "      <td>med</td>\n",
       "      <td>low</td>\n",
       "      <td>unacc</td>\n",
       "    </tr>\n",
       "    <tr>\n",
       "      <th>4</th>\n",
       "      <td>vhigh</td>\n",
       "      <td>vhigh</td>\n",
       "      <td>2</td>\n",
       "      <td>2</td>\n",
       "      <td>med</td>\n",
       "      <td>med</td>\n",
       "      <td>unacc</td>\n",
       "    </tr>\n",
       "  </tbody>\n",
       "</table>\n",
       "</div>"
      ],
      "text/plain": [
       "  buying  maint doors persons lug_boot safety  class\n",
       "0  vhigh  vhigh     2       2    small    low  unacc\n",
       "1  vhigh  vhigh     2       2    small    med  unacc\n",
       "2  vhigh  vhigh     2       2    small   high  unacc\n",
       "3  vhigh  vhigh     2       2      med    low  unacc\n",
       "4  vhigh  vhigh     2       2      med    med  unacc"
      ]
     },
     "execution_count": 2,
     "metadata": {},
     "output_type": "execute_result"
    }
   ],
   "source": [
    "# Importing the dataset using pandas\n",
    "dataset = pd.read_csv('car.csv')\n",
    "dataset.head()"
   ]
  },
  {
   "cell_type": "code",
   "execution_count": 3,
   "metadata": {},
   "outputs": [
    {
     "data": {
      "text/html": [
       "<div>\n",
       "<style scoped>\n",
       "    .dataframe tbody tr th:only-of-type {\n",
       "        vertical-align: middle;\n",
       "    }\n",
       "\n",
       "    .dataframe tbody tr th {\n",
       "        vertical-align: top;\n",
       "    }\n",
       "\n",
       "    .dataframe thead th {\n",
       "        text-align: right;\n",
       "    }\n",
       "</style>\n",
       "<table border=\"1\" class=\"dataframe\">\n",
       "  <thead>\n",
       "    <tr style=\"text-align: right;\">\n",
       "      <th></th>\n",
       "      <th>buying</th>\n",
       "      <th>maint</th>\n",
       "      <th>doors</th>\n",
       "      <th>persons</th>\n",
       "      <th>lug_boot</th>\n",
       "      <th>safety</th>\n",
       "      <th>class</th>\n",
       "    </tr>\n",
       "  </thead>\n",
       "  <tbody>\n",
       "    <tr>\n",
       "      <th>count</th>\n",
       "      <td>1728</td>\n",
       "      <td>1728</td>\n",
       "      <td>1728</td>\n",
       "      <td>1728</td>\n",
       "      <td>1728</td>\n",
       "      <td>1728</td>\n",
       "      <td>1728</td>\n",
       "    </tr>\n",
       "    <tr>\n",
       "      <th>unique</th>\n",
       "      <td>4</td>\n",
       "      <td>4</td>\n",
       "      <td>4</td>\n",
       "      <td>3</td>\n",
       "      <td>3</td>\n",
       "      <td>3</td>\n",
       "      <td>4</td>\n",
       "    </tr>\n",
       "    <tr>\n",
       "      <th>top</th>\n",
       "      <td>med</td>\n",
       "      <td>med</td>\n",
       "      <td>5more</td>\n",
       "      <td>2</td>\n",
       "      <td>big</td>\n",
       "      <td>med</td>\n",
       "      <td>unacc</td>\n",
       "    </tr>\n",
       "    <tr>\n",
       "      <th>freq</th>\n",
       "      <td>432</td>\n",
       "      <td>432</td>\n",
       "      <td>432</td>\n",
       "      <td>576</td>\n",
       "      <td>576</td>\n",
       "      <td>576</td>\n",
       "      <td>1210</td>\n",
       "    </tr>\n",
       "  </tbody>\n",
       "</table>\n",
       "</div>"
      ],
      "text/plain": [
       "       buying maint  doors persons lug_boot safety  class\n",
       "count    1728  1728   1728    1728     1728   1728   1728\n",
       "unique      4     4      4       3        3      3      4\n",
       "top       med   med  5more       2      big    med  unacc\n",
       "freq      432   432    432     576      576    576   1210"
      ]
     },
     "execution_count": 3,
     "metadata": {},
     "output_type": "execute_result"
    }
   ],
   "source": [
    "dataset.describe()"
   ]
  },
  {
   "cell_type": "code",
   "execution_count": 4,
   "metadata": {},
   "outputs": [
    {
     "data": {
      "text/plain": [
       "med      432\n",
       "vhigh    432\n",
       "high     432\n",
       "low      432\n",
       "Name: maint, dtype: int64"
      ]
     },
     "execution_count": 4,
     "metadata": {},
     "output_type": "execute_result"
    }
   ],
   "source": [
    "dataset.maint.value_counts()"
   ]
  },
  {
   "cell_type": "code",
   "execution_count": 5,
   "metadata": {},
   "outputs": [
    {
     "data": {
      "text/plain": [
       "5more    432\n",
       "2        432\n",
       "3        432\n",
       "4        432\n",
       "Name: doors, dtype: int64"
      ]
     },
     "execution_count": 5,
     "metadata": {},
     "output_type": "execute_result"
    }
   ],
   "source": [
    "dataset.doors.value_counts()"
   ]
  },
  {
   "cell_type": "code",
   "execution_count": 6,
   "metadata": {},
   "outputs": [],
   "source": [
    "# Create matrix of features and matrix of target variable.\n",
    "X = dataset.iloc[:, 0:6].values\n",
    "y = dataset.iloc[:, 6:7].values"
   ]
  },
  {
   "cell_type": "code",
   "execution_count": 7,
   "metadata": {},
   "outputs": [
    {
     "data": {
      "text/plain": [
       "array([['vhigh', 'vhigh', '2', '2', 'small'],\n",
       "       ['vhigh', 'vhigh', '2', '2', 'small'],\n",
       "       ['vhigh', 'vhigh', '2', '2', 'small'],\n",
       "       ..., \n",
       "       ['low', 'low', '5more', 'more', 'big'],\n",
       "       ['low', 'low', '5more', 'more', 'big'],\n",
       "       ['low', 'low', '5more', 'more', 'big']], dtype=object)"
      ]
     },
     "execution_count": 7,
     "metadata": {},
     "output_type": "execute_result"
    }
   ],
   "source": [
    "X[:,0:5]"
   ]
  },
  {
   "cell_type": "code",
   "execution_count": 8,
   "metadata": {},
   "outputs": [
    {
     "data": {
      "text/plain": [
       "array([['vhigh', 'vhigh'],\n",
       "       ['vhigh', 'vhigh'],\n",
       "       ['vhigh', 'vhigh'],\n",
       "       ..., \n",
       "       ['low', 'low'],\n",
       "       ['low', 'low'],\n",
       "       ['low', 'low']], dtype=object)"
      ]
     },
     "execution_count": 8,
     "metadata": {},
     "output_type": "execute_result"
    }
   ],
   "source": [
    "X[:,0:2]"
   ]
  },
  {
   "cell_type": "code",
   "execution_count": 9,
   "metadata": {},
   "outputs": [],
   "source": [
    "labelencoder_X_0 = LabelEncoder()\n",
    "X[:, 0] = labelencoder_X_0.fit_transform(X[:, 0])\n",
    "\n",
    "labelencoder_X_1 = LabelEncoder()\n",
    "X[:, 1] = labelencoder_X_1.fit_transform(X[:, 1])\n",
    "labelencoder_X_2 = LabelEncoder()\n",
    "X[:, 2] = labelencoder_X_2.fit_transform(X[:, 2])\n",
    "labelencoder_X_3 = LabelEncoder()\n",
    "X[:, 3] = labelencoder_X_3.fit_transform(X[:, 3])\n",
    "labelencoder_X_4 = LabelEncoder()\n",
    "X[:, 4] = labelencoder_X_4.fit_transform(X[:, 4])\n",
    "labelencoder_X_5 = LabelEncoder()\n",
    "X[:, 5] = labelencoder_X_5.fit_transform(X[:, 5])\n",
    "labelencoder_Y = LabelEncoder()\n",
    "y[:,0] = labelencoder_Y.fit_transform(y[:,0])"
   ]
  },
  {
   "cell_type": "code",
   "execution_count": 10,
   "metadata": {},
   "outputs": [
    {
     "data": {
      "text/plain": [
       "array([[3, 0],\n",
       "       [3, 0],\n",
       "       [3, 0],\n",
       "       ..., \n",
       "       [1, 3],\n",
       "       [1, 3],\n",
       "       [1, 3]], dtype=object)"
      ]
     },
     "execution_count": 10,
     "metadata": {},
     "output_type": "execute_result"
    }
   ],
   "source": [
    "X[:,1:3]"
   ]
  },
  {
   "cell_type": "code",
   "execution_count": 11,
   "metadata": {},
   "outputs": [
    {
     "name": "stdout",
     "output_type": "stream",
     "text": [
      "['high' 'low' 'med' 'vhigh']\n",
      "['2' '3' '4' '5more']\n"
     ]
    }
   ],
   "source": [
    "print(labelencoder_X_1.classes_)\n",
    "print(labelencoder_X_2.classes_)"
   ]
  },
  {
   "cell_type": "code",
   "execution_count": 12,
   "metadata": {},
   "outputs": [
    {
     "name": "stdout",
     "output_type": "stream",
     "text": [
      "['high' 'low' 'med' 'med' 'low' 'high']\n",
      "['2' '3' '3' '2']\n"
     ]
    }
   ],
   "source": [
    "print(labelencoder_X_1.inverse_transform([0,1,2,2,1,0]))\n",
    "print(labelencoder_X_2.inverse_transform([0,1,1,0]))"
   ]
  },
  {
   "cell_type": "code",
   "execution_count": 13,
   "metadata": {
    "scrolled": true
   },
   "outputs": [],
   "source": [
    "onehotencoder = OneHotEncoder(categorical_features = 'all')\n",
    "X = onehotencoder.fit_transform(X).toarray()\n",
    "y = onehotencoder.fit_transform(y).toarray()"
   ]
  },
  {
   "cell_type": "code",
   "execution_count": 14,
   "metadata": {},
   "outputs": [
    {
     "name": "stdout",
     "output_type": "stream",
     "text": [
      "[[ 0.  0.  0.  1.  0.  0.  0.  1.  1.  0.  0.  0.  1.  0.  0.  0.  0.  1.\n",
      "   0.  1.  0.]\n",
      " [ 0.  0.  0.  1.  0.  0.  0.  1.  1.  0.  0.  0.  1.  0.  0.  0.  0.  1.\n",
      "   0.  0.  1.]\n",
      " [ 0.  0.  0.  1.  0.  0.  0.  1.  1.  0.  0.  0.  1.  0.  0.  0.  0.  1.\n",
      "   1.  0.  0.]\n",
      " [ 0.  0.  0.  1.  0.  0.  0.  1.  1.  0.  0.  0.  1.  0.  0.  0.  1.  0.\n",
      "   0.  1.  0.]\n",
      " [ 0.  0.  0.  1.  0.  0.  0.  1.  1.  0.  0.  0.  1.  0.  0.  0.  1.  0.\n",
      "   0.  0.  1.]]\n"
     ]
    }
   ],
   "source": [
    "print(X[0:5,:])"
   ]
  },
  {
   "cell_type": "code",
   "execution_count": 15,
   "metadata": {},
   "outputs": [
    {
     "name": "stdout",
     "output_type": "stream",
     "text": [
      "[ 0.  0.  0. ...,  0.  0.  0.]\n"
     ]
    }
   ],
   "source": [
    "print(y[:,0])"
   ]
  },
  {
   "cell_type": "code",
   "execution_count": 16,
   "metadata": {},
   "outputs": [],
   "source": [
    "# Splitting the dataset into the Training set and Test set\n",
    "X_train, X_test, y_train, y_test = train_test_split(X, y, test_size = 0.2)"
   ]
  },
  {
   "cell_type": "code",
   "execution_count": 17,
   "metadata": {},
   "outputs": [],
   "source": [
    "# Feature Scaling\n",
    "sc = StandardScaler()\n",
    "X_train = sc.fit_transform(X_train)\n",
    "X_test = sc.transform(X_test)"
   ]
  },
  {
   "cell_type": "code",
   "execution_count": 18,
   "metadata": {},
   "outputs": [
    {
     "name": "stderr",
     "output_type": "stream",
     "text": [
      "C:\\Users\\HP\\Anaconda3\\envs\\snowflakes\\lib\\site-packages\\ipykernel_launcher.py:4: UserWarning: Update your `Dense` call to the Keras 2 API: `Dense(activation=\"relu\", input_dim=21, units=11, kernel_initializer=\"uniform\")`\n",
      "  after removing the cwd from sys.path.\n",
      "C:\\Users\\HP\\Anaconda3\\envs\\snowflakes\\lib\\site-packages\\ipykernel_launcher.py:6: UserWarning: Update your `Dense` call to the Keras 2 API: `Dense(activation=\"relu\", units=12, kernel_initializer=\"uniform\")`\n",
      "  \n",
      "C:\\Users\\HP\\Anaconda3\\envs\\snowflakes\\lib\\site-packages\\ipykernel_launcher.py:8: UserWarning: Update your `Dense` call to the Keras 2 API: `Dense(activation=\"relu\", units=12, kernel_initializer=\"uniform\")`\n",
      "  \n",
      "C:\\Users\\HP\\Anaconda3\\envs\\snowflakes\\lib\\site-packages\\ipykernel_launcher.py:10: UserWarning: Update your `Dense` call to the Keras 2 API: `Dense(activation=\"softmax\", units=4, kernel_initializer=\"uniform\")`\n",
      "  # Remove the CWD from sys.path while we load stuff.\n"
     ]
    }
   ],
   "source": [
    "#Initializing Neural Network\n",
    "classifier = Sequential()\n",
    "# Adding the input layer and the first hidden layer\n",
    "classifier.add(Dense(output_dim = 11, init = 'uniform', activation = 'relu', input_dim = 21))\n",
    "# Adding the second hidden layer\n",
    "classifier.add(Dense(output_dim = 12, init = 'uniform', activation = 'relu'))\n",
    "# Adding the second hidden layer\n",
    "classifier.add(Dense(output_dim = 12, init = 'uniform', activation = 'relu'))\n",
    "# Adding the output layer\n",
    "classifier.add(Dense(output_dim = 4, init = 'uniform', activation = 'softmax'))"
   ]
  },
  {
   "cell_type": "code",
   "execution_count": 19,
   "metadata": {},
   "outputs": [
    {
     "name": "stdout",
     "output_type": "stream",
     "text": [
      "Epoch 1/100\n",
      "1382/1382 [==============================] - 1s 381us/step - loss: 0.4745 - acc: 0.7855\n",
      "Epoch 2/100\n",
      "1382/1382 [==============================] - 0s 130us/step - loss: 0.2377 - acc: 0.8909\n",
      "Epoch 3/100\n",
      "1382/1382 [==============================] - 0s 140us/step - loss: 0.1928 - acc: 0.9126\n",
      "Epoch 4/100\n",
      "1382/1382 [==============================] - 0s 136us/step - loss: 0.1615 - acc: 0.9186\n",
      "Epoch 5/100\n",
      "1382/1382 [==============================] - 0s 135us/step - loss: 0.1322 - acc: 0.9497\n",
      "Epoch 6/100\n",
      "1382/1382 [==============================] - 0s 140us/step - loss: 0.1165 - acc: 0.9553\n",
      "Epoch 7/100\n",
      "1382/1382 [==============================] - 0s 133us/step - loss: 0.1065 - acc: 0.9559\n",
      "Epoch 8/100\n",
      "1382/1382 [==============================] - 0s 128us/step - loss: 0.0938 - acc: 0.9562\n",
      "Epoch 9/100\n",
      "1382/1382 [==============================] - 0s 135us/step - loss: 0.0802 - acc: 0.9624\n",
      "Epoch 10/100\n",
      "1382/1382 [==============================] - 0s 130us/step - loss: 0.0671 - acc: 0.9756\n",
      "Epoch 11/100\n",
      "1382/1382 [==============================] - 0s 133us/step - loss: 0.0575 - acc: 0.9768\n",
      "Epoch 12/100\n",
      "1382/1382 [==============================] - 0s 138us/step - loss: 0.0497 - acc: 0.9783\n",
      "Epoch 13/100\n",
      "1382/1382 [==============================] - 0s 135us/step - loss: 0.0450 - acc: 0.9776\n",
      "Epoch 14/100\n",
      "1382/1382 [==============================] - 0s 135us/step - loss: 0.0413 - acc: 0.9785\n",
      "Epoch 15/100\n",
      "1382/1382 [==============================] - 0s 135us/step - loss: 0.0385 - acc: 0.9785\n",
      "Epoch 16/100\n",
      "1382/1382 [==============================] - 0s 133us/step - loss: 0.0364 - acc: 0.9790\n",
      "Epoch 17/100\n",
      "1382/1382 [==============================] - 0s 164us/step - loss: 0.0347 - acc: 0.9790\n",
      "Epoch 18/100\n",
      "1382/1382 [==============================] - 0s 139us/step - loss: 0.0341 - acc: 0.9792\n",
      "Epoch 19/100\n",
      "1382/1382 [==============================] - 0s 119us/step - loss: 0.0331 - acc: 0.9781\n",
      "Epoch 20/100\n",
      "1382/1382 [==============================] - 0s 127us/step - loss: 0.0323 - acc: 0.9794\n",
      "Epoch 21/100\n",
      "1382/1382 [==============================] - 0s 133us/step - loss: 0.0315 - acc: 0.9790\n",
      "Epoch 22/100\n",
      "1382/1382 [==============================] - 0s 129us/step - loss: 0.0311 - acc: 0.9790\n",
      "Epoch 23/100\n",
      "1382/1382 [==============================] - 0s 135us/step - loss: 0.0307 - acc: 0.9783\n",
      "Epoch 24/100\n",
      "1382/1382 [==============================] - 0s 131us/step - loss: 0.0303 - acc: 0.9788\n",
      "Epoch 25/100\n",
      "1382/1382 [==============================] - 0s 132us/step - loss: 0.0300 - acc: 0.9792\n",
      "Epoch 26/100\n",
      "1382/1382 [==============================] - 0s 131us/step - loss: 0.0292 - acc: 0.9861\n",
      "Epoch 27/100\n",
      "1382/1382 [==============================] - 0s 127us/step - loss: 0.0297 - acc: 0.9861\n",
      "Epoch 28/100\n",
      "1382/1382 [==============================] - 0s 129us/step - loss: 0.0294 - acc: 0.9891\n",
      "Epoch 29/100\n",
      "1382/1382 [==============================] - 0s 140us/step - loss: 0.0261 - acc: 0.9904\n",
      "Epoch 30/100\n",
      "1382/1382 [==============================] - 0s 137us/step - loss: 0.0206 - acc: 0.9960\n",
      "Epoch 31/100\n",
      "1382/1382 [==============================] - 0s 140us/step - loss: 0.0151 - acc: 0.9996\n",
      "Epoch 32/100\n",
      "1382/1382 [==============================] - 0s 139us/step - loss: 0.0129 - acc: 0.9989\n",
      "Epoch 33/100\n",
      "1382/1382 [==============================] - 0s 140us/step - loss: 0.0094 - acc: 0.9993\n",
      "Epoch 34/100\n",
      "1382/1382 [==============================] - 0s 140us/step - loss: 0.0072 - acc: 1.0000\n",
      "Epoch 35/100\n",
      "1382/1382 [==============================] - 0s 137us/step - loss: 0.0057 - acc: 1.0000\n",
      "Epoch 36/100\n",
      "1382/1382 [==============================] - 0s 132us/step - loss: 0.0045 - acc: 1.0000\n",
      "Epoch 37/100\n",
      "1382/1382 [==============================] - 0s 142us/step - loss: 0.0037 - acc: 1.0000\n",
      "Epoch 38/100\n",
      "1382/1382 [==============================] - 0s 140us/step - loss: 0.0029 - acc: 1.0000\n",
      "Epoch 39/100\n",
      "1382/1382 [==============================] - 0s 138us/step - loss: 0.0027 - acc: 1.0000\n",
      "Epoch 40/100\n",
      "1382/1382 [==============================] - 0s 137us/step - loss: 0.0022 - acc: 1.0000\n",
      "Epoch 41/100\n",
      "1382/1382 [==============================] - 0s 142us/step - loss: 0.0018 - acc: 1.0000\n",
      "Epoch 42/100\n",
      "1382/1382 [==============================] - 0s 141us/step - loss: 0.0016 - acc: 1.0000\n",
      "Epoch 43/100\n",
      "1382/1382 [==============================] - 0s 146us/step - loss: 0.0014 - acc: 1.0000\n",
      "Epoch 44/100\n",
      "1382/1382 [==============================] - 0s 144us/step - loss: 0.0015 - acc: 1.0000\n",
      "Epoch 45/100\n",
      "1382/1382 [==============================] - 0s 144us/step - loss: 0.0012 - acc: 1.0000\n",
      "Epoch 46/100\n",
      "1382/1382 [==============================] - 0s 145us/step - loss: 0.0011 - acc: 1.0000\n",
      "Epoch 47/100\n",
      "1382/1382 [==============================] - 0s 161us/step - loss: 7.9974e-04 - acc: 1.0000\n",
      "Epoch 48/100\n",
      "1382/1382 [==============================] - 0s 156us/step - loss: 7.6257e-04 - acc: 1.0000\n",
      "Epoch 49/100\n",
      "1382/1382 [==============================] - 0s 158us/step - loss: 6.7202e-04 - acc: 1.0000\n",
      "Epoch 50/100\n",
      "1382/1382 [==============================] - 0s 142us/step - loss: 6.0089e-04 - acc: 1.0000\n",
      "Epoch 51/100\n",
      "1382/1382 [==============================] - 0s 139us/step - loss: 5.2393e-04 - acc: 1.0000\n",
      "Epoch 52/100\n",
      "1382/1382 [==============================] - 0s 133us/step - loss: 4.6130e-04 - acc: 1.0000\n",
      "Epoch 53/100\n",
      "1382/1382 [==============================] - 0s 130us/step - loss: 4.4432e-04 - acc: 1.0000\n",
      "Epoch 54/100\n",
      "1382/1382 [==============================] - 0s 126us/step - loss: 4.3705e-04 - acc: 1.0000\n",
      "Epoch 55/100\n",
      "1382/1382 [==============================] - 0s 129us/step - loss: 3.7448e-04 - acc: 1.0000\n",
      "Epoch 56/100\n",
      "1382/1382 [==============================] - 0s 128us/step - loss: 3.2858e-04 - acc: 1.0000\n",
      "Epoch 57/100\n",
      "1382/1382 [==============================] - 0s 128us/step - loss: 3.0728e-04 - acc: 1.0000\n",
      "Epoch 58/100\n",
      "1382/1382 [==============================] - 0s 131us/step - loss: 2.6340e-04 - acc: 1.0000\n",
      "Epoch 59/100\n",
      "1382/1382 [==============================] - 0s 130us/step - loss: 2.4119e-04 - acc: 1.0000\n",
      "Epoch 60/100\n",
      "1382/1382 [==============================] - 0s 126us/step - loss: 2.5615e-04 - acc: 1.0000\n",
      "Epoch 61/100\n",
      "1382/1382 [==============================] - 0s 126us/step - loss: 2.9505e-04 - acc: 1.0000\n",
      "Epoch 62/100\n",
      "1382/1382 [==============================] - 0s 129us/step - loss: 2.4674e-04 - acc: 1.0000\n",
      "Epoch 63/100\n",
      "1382/1382 [==============================] - 0s 133us/step - loss: 2.0546e-04 - acc: 1.0000\n",
      "Epoch 64/100\n",
      "1382/1382 [==============================] - 0s 125us/step - loss: 1.7566e-04 - acc: 1.0000\n",
      "Epoch 65/100\n",
      "1382/1382 [==============================] - 0s 127us/step - loss: 1.4588e-04 - acc: 1.0000\n",
      "Epoch 66/100\n",
      "1382/1382 [==============================] - 0s 130us/step - loss: 1.3236e-04 - acc: 1.0000\n",
      "Epoch 67/100\n",
      "1382/1382 [==============================] - 0s 127us/step - loss: 1.2248e-04 - acc: 1.0000\n",
      "Epoch 68/100\n",
      "1382/1382 [==============================] - 0s 126us/step - loss: 1.1476e-04 - acc: 1.0000\n",
      "Epoch 69/100\n",
      "1382/1382 [==============================] - 0s 130us/step - loss: 1.0417e-04 - acc: 1.0000\n",
      "Epoch 70/100\n",
      "1382/1382 [==============================] - 0s 127us/step - loss: 9.5865e-05 - acc: 1.0000\n",
      "Epoch 71/100\n",
      "1382/1382 [==============================] - 0s 127us/step - loss: 8.2836e-05 - acc: 1.0000\n",
      "Epoch 72/100\n",
      "1382/1382 [==============================] - 0s 127us/step - loss: 7.6731e-05 - acc: 1.0000\n",
      "Epoch 73/100\n",
      "1382/1382 [==============================] - 0s 131us/step - loss: 7.3466e-05 - acc: 1.0000\n",
      "Epoch 74/100\n",
      "1382/1382 [==============================] - 0s 126us/step - loss: 6.2257e-05 - acc: 1.0000\n",
      "Epoch 75/100\n",
      "1382/1382 [==============================] - 0s 130us/step - loss: 6.2052e-05 - acc: 1.0000\n",
      "Epoch 76/100\n",
      "1382/1382 [==============================] - 0s 127us/step - loss: 5.6815e-05 - acc: 1.0000\n",
      "Epoch 77/100\n",
      "1382/1382 [==============================] - 0s 128us/step - loss: 5.3719e-05 - acc: 1.0000\n",
      "Epoch 78/100\n",
      "1382/1382 [==============================] - 0s 127us/step - loss: 4.8127e-05 - acc: 1.0000\n",
      "Epoch 79/100\n",
      "1382/1382 [==============================] - 0s 127us/step - loss: 4.4361e-05 - acc: 1.0000\n",
      "Epoch 80/100\n"
     ]
    },
    {
     "name": "stdout",
     "output_type": "stream",
     "text": [
      "1382/1382 [==============================] - 0s 125us/step - loss: 4.1519e-05 - acc: 1.0000\n",
      "Epoch 81/100\n",
      "1382/1382 [==============================] - 0s 114us/step - loss: 4.1303e-05 - acc: 1.0000\n",
      "Epoch 82/100\n",
      "1382/1382 [==============================] - 0s 118us/step - loss: 3.8833e-05 - acc: 1.0000\n",
      "Epoch 83/100\n",
      "1382/1382 [==============================] - 0s 117us/step - loss: 3.6032e-05 - acc: 1.0000\n",
      "Epoch 84/100\n",
      "1382/1382 [==============================] - 0s 114us/step - loss: 3.1140e-05 - acc: 1.0000\n",
      "Epoch 85/100\n",
      "1382/1382 [==============================] - 0s 109us/step - loss: 2.5035e-05 - acc: 1.0000\n",
      "Epoch 86/100\n",
      "1382/1382 [==============================] - 0s 115us/step - loss: 2.3593e-05 - acc: 1.0000\n",
      "Epoch 87/100\n",
      "1382/1382 [==============================] - 0s 123us/step - loss: 2.1201e-05 - acc: 1.0000\n",
      "Epoch 88/100\n",
      "1382/1382 [==============================] - 0s 126us/step - loss: 2.1134e-05 - acc: 1.0000\n",
      "Epoch 89/100\n",
      "1382/1382 [==============================] - 0s 117us/step - loss: 1.8155e-05 - acc: 1.0000\n",
      "Epoch 90/100\n",
      "1382/1382 [==============================] - 0s 114us/step - loss: 1.8484e-05 - acc: 1.0000\n",
      "Epoch 91/100\n",
      "1382/1382 [==============================] - 0s 115us/step - loss: 1.7063e-05 - acc: 1.0000\n",
      "Epoch 92/100\n",
      "1382/1382 [==============================] - 0s 110us/step - loss: 1.5857e-05 - acc: 1.0000\n",
      "Epoch 93/100\n",
      "1382/1382 [==============================] - 0s 114us/step - loss: 1.8325e-05 - acc: 1.0000\n",
      "Epoch 94/100\n",
      "1382/1382 [==============================] - 0s 119us/step - loss: 1.2022e-05 - acc: 1.0000\n",
      "Epoch 95/100\n",
      "1382/1382 [==============================] - 0s 114us/step - loss: 1.1626e-05 - acc: 1.0000\n",
      "Epoch 96/100\n",
      "1382/1382 [==============================] - 0s 115us/step - loss: 1.0339e-05 - acc: 1.0000\n",
      "Epoch 97/100\n",
      "1382/1382 [==============================] - 0s 116us/step - loss: 9.9149e-06 - acc: 1.0000\n",
      "Epoch 98/100\n",
      "1382/1382 [==============================] - 0s 115us/step - loss: 9.1786e-06 - acc: 1.0000\n",
      "Epoch 99/100\n",
      "1382/1382 [==============================] - 0s 116us/step - loss: 8.1315e-06 - acc: 1.0000\n",
      "Epoch 100/100\n",
      "1382/1382 [==============================] - 0s 116us/step - loss: 7.9642e-06 - acc: 1.0000\n"
     ]
    },
    {
     "data": {
      "text/plain": [
       "<keras.callbacks.History at 0xea98884470>"
      ]
     },
     "execution_count": 19,
     "metadata": {},
     "output_type": "execute_result"
    }
   ],
   "source": [
    "# Compiling Neural Network\n",
    "classifier.compile(optimizer = 'adam', loss = 'binary_crossentropy', metrics = ['accuracy'])\n",
    "# Fitting our model \n",
    "classifier.fit(X_train, y_train, batch_size = 10, epochs = 100)"
   ]
  },
  {
   "cell_type": "code",
   "execution_count": 20,
   "metadata": {},
   "outputs": [
    {
     "name": "stdout",
     "output_type": "stream",
     "text": [
      "[[False False  True False]\n",
      " [False False  True False]\n",
      " [False False  True False]\n",
      " ..., \n",
      " [False False  True False]\n",
      " [False False  True False]\n",
      " [False False  True False]]\n"
     ]
    }
   ],
   "source": [
    "y_pred = classifier.predict(X_test)\n",
    "y_pred = (y_pred > 0.5)\n",
    "print(y_pred)"
   ]
  },
  {
   "cell_type": "code",
   "execution_count": 21,
   "metadata": {},
   "outputs": [
    {
     "name": "stdout",
     "output_type": "stream",
     "text": [
      "the accuracy of the model is 99.7 %\n"
     ]
    }
   ],
   "source": [
    "from sklearn.metrics import accuracy_score\n",
    "accuracy=accuracy_score(y_test,y_pred)*100\n",
    "print(\"the accuracy of the model is %2.1f %%\" %accuracy)"
   ]
  },
  {
   "cell_type": "code",
   "execution_count": null,
   "metadata": {},
   "outputs": [],
   "source": []
  },
  {
   "cell_type": "code",
   "execution_count": null,
   "metadata": {},
   "outputs": [],
   "source": []
  }
 ],
 "metadata": {
  "kernelspec": {
   "display_name": "Python 3",
   "language": "python",
   "name": "python3"
  },
  "language_info": {
   "codemirror_mode": {
    "name": "ipython",
    "version": 3
   },
   "file_extension": ".py",
   "mimetype": "text/x-python",
   "name": "python",
   "nbconvert_exporter": "python",
   "pygments_lexer": "ipython3",
   "version": "3.6.4"
  }
 },
 "nbformat": 4,
 "nbformat_minor": 2
}
